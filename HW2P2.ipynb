{
  "cells": [
    {
      "cell_type": "markdown",
      "metadata": {
        "id": "view-in-github",
        "colab_type": "text"
      },
      "source": [
        "<a href=\"https://colab.research.google.com/github/linjiw/linjiw.github.io/blob/main/HW2P2.ipynb\" target=\"_parent\"><img src=\"https://colab.research.google.com/assets/colab-badge.svg\" alt=\"Open In Colab\"/></a>"
      ]
    },
    {
      "cell_type": "markdown",
      "source": [
        "## log in kaggle -> download dataset -> unzip dataset\n"
      ],
      "metadata": {
        "id": "BTTNkvXXPR5Y"
      }
    },
    {
      "cell_type": "code",
      "source": [
        "!pip install --upgrade --force-reinstall --no-deps kaggle==1.5.8\n",
        "!mkdir /root/.kaggle\n",
        "\n",
        "with open(\"/root/.kaggle/kaggle.json\", \"w+\") as f:\n",
        "    f.write('{\"username\":\"todo\",\"key\":\"todo\"}') # Put your kaggle username & key here\n",
        "\n",
        "!chmod 600 /root/.kaggle/kaggle.json"
      ],
      "metadata": {
        "id": "FG8HbuG8PS-5"
      },
      "execution_count": null,
      "outputs": []
    },
    {
      "cell_type": "code",
      "source": [
        "!kaggle competitions download -c 11-785-s22-hw2p2-classification\n",
        "!kaggle competitions download -c 11-785-s22-hw2p2-verification\n",
        "\n",
        "!unzip -q 11-785-s22-hw2p2-classification.zip\n",
        "!unzip -q 11-785-s22-hw2p2-verification.zip\n",
        "\n",
        "!ls"
      ],
      "metadata": {
        "id": "hLLEwFYxP1Bx"
      },
      "execution_count": null,
      "outputs": []
    },
    {
      "cell_type": "markdown",
      "source": [
        "## log wandb -> record running data"
      ],
      "metadata": {
        "id": "Nx4jKavOPdyg"
      }
    },
    {
      "cell_type": "code",
      "source": [
        "!pip install wandb\n",
        "!wandb login\n",
        "# your key"
      ],
      "metadata": {
        "id": "_3FutsOoPhmD"
      },
      "execution_count": null,
      "outputs": []
    },
    {
      "cell_type": "code",
      "source": [
        "import wandb\n",
        "\n",
        "wandb.init(project=\"hw2pw\", entity=\"linjiw\")"
      ],
      "metadata": {
        "id": "l5-7J1B5QbeD"
      },
      "execution_count": null,
      "outputs": []
    },
    {
      "cell_type": "markdown",
      "source": [
        "## connect google drive for model store"
      ],
      "metadata": {
        "id": "G21JWu57Ptl_"
      }
    },
    {
      "cell_type": "code",
      "source": [
        "from google.colab import drive\n",
        "drive.mount('/content/drive')"
      ],
      "metadata": {
        "id": "0SdxW464PtGw"
      },
      "execution_count": null,
      "outputs": []
    },
    {
      "cell_type": "markdown",
      "source": [
        "## import necessary libraries"
      ],
      "metadata": {
        "id": "NMosq9TbPkqa"
      }
    },
    {
      "cell_type": "code",
      "execution_count": null,
      "metadata": {
        "id": "jwLEd0gdPbSc"
      },
      "outputs": [],
      "source": [
        "import torch\n",
        "import torch.nn as nn\n",
        "import torch.nn.functional as F\n",
        "import torch.optim as optim\n",
        "from torch.utils.data import Dataset, DataLoader\n",
        "\n",
        "import torchvision\n",
        "\n",
        "import torchvision.transforms as ttf\n",
        "from torch import Tensor\n",
        "\n",
        "import os\n",
        "import os.path as osp\n",
        "\n",
        "from tqdm import tqdm\n",
        "from PIL import Image\n",
        "from sklearn.metrics import roc_auc_score\n",
        "import numpy as np\n",
        "import torch.nn.init as init\n",
        "from datetime import datetime\n",
        "from PIL import Image\n",
        "from pathlib import Path\n",
        "import matplotlib.pyplot as plt\n",
        "import numpy as np\n",
        "import torchvision.models as models\n",
        "\n",
        "import torch\n",
        "from torch.autograd import Variable, Function\n",
        " \n",
        "# import torchvision.transforms as T\n",
        "\n"
      ]
    },
    {
      "cell_type": "markdown",
      "source": [
        "## Centerloss implementation"
      ],
      "metadata": {
        "id": "pehQC2tDP4TL"
      }
    },
    {
      "cell_type": "markdown",
      "source": [
        "##Centeloss"
      ],
      "metadata": {
        "id": "iy_h5_apDhdG"
      }
    },
    {
      "cell_type": "code",
      "source": [
        "class CenterLoss(nn.Module):\n",
        " \n",
        "    def __init__(self, num_classes=10, feat_dim=2, use_gpu=True):\n",
        "        super(CenterLoss, self).__init__()\n",
        "        self.num_classes = num_classes\n",
        "        self.feat_dim = feat_dim\n",
        "        self.use_gpu = use_gpu\n",
        "\n",
        "        if self.use_gpu:\n",
        "            self.centers = nn.Parameter(torch.randn(self.num_classes, self.feat_dim).cuda())\n",
        "        else:\n",
        "            self.centers = nn.Parameter(torch.randn(self.num_classes, self.feat_dim))\n",
        "\n",
        "    def forward(self, x, labels):\n",
        " \n",
        "        batch_size = x.size(0)\n",
        "        distmat = torch.pow(x, 2).sum(dim=1, keepdim=True).expand(batch_size, self.num_classes) + \\\n",
        "                  torch.pow(self.centers, 2).sum(dim=1, keepdim=True).expand(self.num_classes, batch_size).t()\n",
        "        distmat.addmm_(1, -2, x, self.centers.t())\n",
        "\n",
        "        classes = torch.arange(self.num_classes).long()\n",
        "        if self.use_gpu: classes = classes.cuda()\n",
        "        labels = labels.unsqueeze(1).expand(batch_size, self.num_classes)\n",
        "        mask = labels.eq(classes.expand(batch_size, self.num_classes))\n",
        "\n",
        "        dist = distmat * mask.float()\n",
        "        loss = dist.clamp(min=1e-12, max=1e+12).sum() / batch_size\n",
        "\n",
        "        return loss"
      ],
      "metadata": {
        "id": "PcjLLYL6JMM0"
      },
      "execution_count": null,
      "outputs": []
    },
    {
      "cell_type": "markdown",
      "source": [
        "## Resnet18 implementation and override method for verification"
      ],
      "metadata": {
        "id": "qpy3SMYdQSuy"
      }
    },
    {
      "cell_type": "code",
      "execution_count": null,
      "metadata": {
        "id": "96m2CrmWCND8"
      },
      "outputs": [],
      "source": [
        "# resnet18 = models.resnet18(pretrained=True)\n",
        "num_classes = 7000\n",
        "class revisednet(models.ResNet):\n",
        "    \n",
        "    def _forward_impl(self, x: Tensor, return_feats=False) -> Tensor:\n",
        "        # See note [TorchScript super()]\n",
        "        x = self.conv1(x)\n",
        "        x = self.bn1(x)\n",
        "        x = self.relu(x)\n",
        "        x = self.maxpool(x)\n",
        "\n",
        "        x = self.layer1(x)\n",
        "        x = self.layer2(x)\n",
        "        x = self.layer3(x)\n",
        "        x = self.layer4(x)\n",
        "\n",
        "        x = self.avgpool(x)\n",
        "        feats = torch.flatten(x, 1)\n",
        "        # print(f\"feats {feats.shape}\")\n",
        "        out = self.fc(feats)\n",
        "        \n",
        "        return feats, out\n",
        "        # if return_feats:\n",
        "        #     return feats\n",
        "        # else:\n",
        "        #     return out\n",
        "\n",
        "        # return x\n",
        "    def forward(self, x: Tensor,return_feats=False) -> Tensor:\n",
        "        return self._forward_impl(x,return_feats=False)\n",
        "BasicBlock = models.resnet.BasicBlock\n",
        "\n",
        "Network = revisednet(BasicBlock, [2,2,2,2])\n",
        "Network.fc = nn.Linear(512,7000)"
      ]
    },
    {
      "cell_type": "markdown",
      "metadata": {
        "id": "cBTLCyocZBGS"
      },
      "source": [
        "# Hyperparameters"
      ]
    },
    {
      "cell_type": "code",
      "execution_count": null,
      "metadata": {
        "id": "13usn4nYZCvJ"
      },
      "outputs": [],
      "source": [
        "\"\"\"\n",
        "The well-accepted SGD batch_size & lr combination for CNN classification is 256 batch size for 0.1 learning rate.\n",
        "When changing batch size for SGD, follow the linear scaling rule - halving batch size -> halve learning rate, etc.\n",
        "This is less theoretically supported for Adam, but in my experience, it's a decent ballpark estimate.\n",
        "\"\"\"\n",
        "num_classes = 7000\n",
        "batch_size = 256\n",
        "lr = 0.03\n",
        "epochs = 200 # Just for the early submission. We'd want you to train like 50 epochs for your main submissions.\n",
        "\n",
        "wandb.config = {\n",
        "  \"learning_rate\": 0.03,\n",
        "  \"epochs\": 100,\n",
        "  \"batch_size\": 256\n",
        "}"
      ]
    },
    {
      "cell_type": "markdown",
      "metadata": {
        "id": "NwYR-CLwX09u"
      },
      "source": [
        "# Dataset & DataLoader"
      ]
    },
    {
      "cell_type": "markdown",
      "source": [
        "## Classification dataset and dataloader"
      ],
      "metadata": {
        "id": "KAb9wKKXRBse"
      }
    },
    {
      "cell_type": "code",
      "execution_count": null,
      "metadata": {
        "id": "awE5BxlqX2o7"
      },
      "outputs": [],
      "source": [
        "\"\"\"\n",
        "Transforms (data augmentation) is quite important for this task.\n",
        "Go explore https://pytorch.org/vision/stable/transforms.html for more details\n",
        "\"\"\"\n",
        "DATA_DIR = \"/content\"\n",
        "# TRAIN_DIR = osp.join(DATA_DIR, \"train_subset/train_subset\") # This is a smaller subset of the data. Should change this to classification/classification/train\n",
        "TRAIN_DIR = osp.join(DATA_DIR, \"classification/classification/train\")\n",
        "VAL_DIR = osp.join(DATA_DIR, \"classification/classification/dev\")\n",
        "TEST_DIR = osp.join(DATA_DIR, \"classification/classification/test\")\n",
        "\n",
        "# train_transforms = [ttf.ToTensor(),ttf.RandomRotation((-90,90)),ttf.RandomAdjustSharpness(1.5),ttf.RandomHorizontalFlip(p=0.5),ttf.RandomVerticalFlip(p=0.5),ttf.RandomPerspective(distortion_scale=0.5,p=0.5) ] ,ttf.RandomVerticalFlip(p=0.2),\n",
        "# val_transforms = [ttf.ToTensor()],ttf.RandomRotation((-5,5),fill=20)\n",
        "# train_transforms = [   ttf.ToTensor(),ttf.RandomHorizontalFlip(p=0.5),ttf.RandomVerticalFlip(p=0.01),ttf.RandomAffine(degrees=(-5,5),scale=(1,1.05)),ttf.ColorJitter(brightness=0.2,hue=0.05,contrast=0.2,saturation=0.05),ttf.Resize((224,224)),ttf.Normalize((0.485, 0.456, 0.406), (0.229, 0.224, 0.225))]\n",
        "\n",
        "# val_transforms = [   ttf.ToTensor(),ttf.Normalize((0.485, 0.456, 0.406), (0.229, 0.224, 0.225)) ]\n",
        "train_transforms = [ttf.ToTensor(),ttf.RandomHorizontalFlip(p=0.5),ttf.RandomInvert(p=0.01),ttf.RandomAffine(degrees=(-5,5),scale=(1,1.05)),ttf.ColorJitter(brightness=0.3,hue=0.2,contrast=0.3,saturation=0.2),ttf.Resize((224,224)),ttf.Normalize((0.485, 0.456, 0.406), (0.229, 0.224, 0.225))]\n",
        "\n",
        "val_transforms = [ttf.ToTensor(),ttf.Normalize((0.485, 0.456, 0.406), (0.229, 0.224, 0.225)) ]\n",
        "\n",
        "train_dataset = torchvision.datasets.ImageFolder(TRAIN_DIR,\n",
        "                                                 transform=ttf.Compose(train_transforms))\n",
        "val_dataset = torchvision.datasets.ImageFolder(VAL_DIR,\n",
        "                                               transform=ttf.Compose(val_transforms))\n",
        "\n",
        "\n",
        "\n",
        "\n",
        "train_loader = DataLoader(train_dataset, batch_size=batch_size,\n",
        "                          shuffle=True, drop_last=True, num_workers=4)\n",
        "val_loader = DataLoader(val_dataset, batch_size=batch_size, shuffle=False,\n",
        "                        drop_last=True, num_workers=4)"
      ]
    },
    {
      "cell_type": "markdown",
      "source": [
        "## Visualize Transformation to have a better understanding what's going on under the hood"
      ],
      "metadata": {
        "id": "-inS1YKXQvuh"
      }
    },
    {
      "cell_type": "code",
      "execution_count": null,
      "metadata": {
        "colab": {
          "base_uri": "https://localhost:8080/"
        },
        "id": "xk3fyaqW6TMh",
        "outputId": "c8ebf508-ced8-48b9-d8cb-74343dc6a75a"
      },
      "outputs": [
        {
          "output_type": "stream",
          "name": "stdout",
          "text": [
            "/content/classification/classification/train/n004976/0014_01.jpg\n"
          ]
        }
      ],
      "source": [
        "sample_image_pth = osp.join(TRAIN_DIR,os.listdir(TRAIN_DIR)[0])\n",
        "# print(os.listdir(TRAIN_DIR))\n",
        "sample_image_pth = osp.join(sample_image_pth,os.listdir(sample_image_pth)[0])\n",
        "\n",
        "print(sample_image_pth)"
      ]
    },
    {
      "cell_type": "code",
      "execution_count": null,
      "metadata": {
        "id": "pD3NUY9j9mg4"
      },
      "outputs": [],
      "source": [
        "orig_img = Image.open(sample_image_pth)\n",
        "def plot(imgs, with_orig=True, row_title=None, **imshow_kwargs):\n",
        "    if not isinstance(imgs[0], list):\n",
        "        # Make a 2d grid even if there's just 1 row\n",
        "        imgs = [imgs]\n",
        "\n",
        "    num_rows = len(imgs)\n",
        "    num_cols = len(imgs[0]) + with_orig\n",
        "    fig, axs = plt.subplots(nrows=num_rows, ncols=num_cols, squeeze=False)\n",
        "    for row_idx, row in enumerate(imgs):\n",
        "        row = [orig_img] + row if with_orig else row\n",
        "        for col_idx, img in enumerate(row):\n",
        "            ax = axs[row_idx, col_idx]\n",
        "            ax.imshow(np.asarray(img), **imshow_kwargs)\n",
        "            ax.set(xticklabels=[], yticklabels=[], xticks=[], yticks=[])\n",
        "\n",
        "    if with_orig:\n",
        "        axs[0, 0].set(title='Original image')\n",
        "        axs[0, 0].title.set_size(8)\n",
        "    if row_title is not None:\n",
        "        for row_idx in range(num_rows):\n",
        "            axs[row_idx, 0].set(ylabel=row_title[row_idx])\n",
        "\n",
        "    plt.tight_layout()\n"
      ]
    },
    {
      "cell_type": "code",
      "execution_count": null,
      "metadata": {
        "colab": {
          "base_uri": "https://localhost:8080/",
          "height": 98
        },
        "id": "8jZqHdW194Ih",
        "outputId": "fe8338ec-2b69-4634-dc79-a961b1eed01d"
      },
      "outputs": [
        {
          "output_type": "display_data",
          "data": {
            "image/png": "[encoded data removed]",
            "text/plain": [
              "<Figure size 432x288 with 6 Axes>"
            ]
          },
          "metadata": {}
        }
      ],
      "source": [
        "transform=ttf.Compose(train_transforms[1:-1])\n",
        "transformed_img = [transform(orig_img) for i in range(5)]\n",
        "plot(transformed_img)"
      ]
    },
    {
      "cell_type": "markdown",
      "source": [
        "## Verification dataset and dataloader"
      ],
      "metadata": {
        "id": "nM0Fn4UMRHIs"
      }
    },
    {
      "cell_type": "code",
      "source": [
        "class VerificationDataset(Dataset):\n",
        "    def __init__(self, data_dir, transforms):\n",
        "        self.data_dir = data_dir\n",
        "        self.transforms = transforms\n",
        "\n",
        "        # This one-liner basically generates a sorted list of full paths to each image in data_dir\n",
        "        self.img_paths = list(map(lambda fname: osp.join(self.data_dir, fname), sorted(os.listdir(self.data_dir))))\n",
        "\n",
        "    def __len__(self):\n",
        "        return len(self.img_paths)\n",
        "    \n",
        "    def __getitem__(self, idx):\n",
        "        # We return the image, as well as the path to that image (relative path)\n",
        "        return self.transforms(Image.open(self.img_paths[idx])), osp.relpath(self.img_paths[idx], self.data_dir)"
      ],
      "metadata": {
        "id": "tYx1YDLdN5PK"
      },
      "execution_count": null,
      "outputs": []
    },
    {
      "cell_type": "code",
      "source": [
        "val_veri_dataset = VerificationDataset(osp.join(DATA_DIR, \"verification/verification/dev\"),\n",
        "                                       ttf.Compose(val_transforms))\n",
        "val_ver_loader = torch.utils.data.DataLoader(val_veri_dataset, batch_size=batch_size, \n",
        "                                             shuffle=False, num_workers=1)"
      ],
      "metadata": {
        "id": "b6G41tXaOCn8"
      },
      "execution_count": null,
      "outputs": []
    },
    {
      "cell_type": "markdown",
      "metadata": {
        "id": "KZCn0qHuZRKj"
      },
      "source": [
        "# Setup everything for training"
      ]
    },
    {
      "cell_type": "markdown",
      "source": [
        "Now this step is fine tuning of my pretrained classification model, and I am trying to add centerloss to make it performs better for verification."
      ],
      "metadata": {
        "id": "xC62H8fMRPeQ"
      }
    },
    {
      "cell_type": "code",
      "execution_count": null,
      "metadata": {
        "colab": {
          "base_uri": "https://localhost:8080/"
        },
        "id": "UowI9OcUYPjP",
        "outputId": "ca5b8aef-2175-4f7d-f25b-799b533f66c5"
      },
      "outputs": [
        {
          "output_type": "stream",
          "name": "stdout",
          "text": [
            "Number of Params: 14767512\n"
          ]
        }
      ],
      "source": [
        "from torch.nn.modules.loss import CrossEntropyLoss\n",
        "\n",
        "lr = 0.03\n",
        "model = Network\n",
        "# model = mobilenet\n",
        "# model.load_state_dict(torch.load(\"/content/drive/MyDrive/hw2p2/model/156_27_02_2022_21_08.pth\")) best\n",
        "# model.load_state_dict(torch.load(\"/content/drive/MyDrive/hw2p2/model/best_mobilev3_onlyflip.pth\"))\n",
        "# 23_09_03_2022_06_25 81\n",
        "# 9_10_03_2022_00_39 82\n",
        "# model.load_state_dict(torch.load(\"/content/drive/MyDrive/hw2p2/model/54_08_03_2022_22_45.pth\")) #79.6\n",
        "# model.load_state_dict(torch.load(\"/content/drive/MyDrive/hw2p2/model/9_10_03_2022_00_39.pth\")) #81\n",
        "# /content/drive/MyDrive/hw2p2/11-785-s22-hw2p2-classification/model/0.8428%_84_10_03_2022_19_09.pth\n",
        "# model.load_state_dict(torch.load(\"/content/drive/MyDrive/11785/hw2p2/aws/model/8542.pth\"))\n",
        "# model.load_state_dict(torch.load(\"/content/drive/MyDrive/hw2p2/11-785-s22-hw2p2-classification/model/0.8428%_84_10_03_2022_19_09.pth\"))\n",
        "model.load_state_dict(torch.load(\"/content/drive/MyDrive/hw2p2/model/5_22_03_2022_02_23.pth\"))\n",
        "model.cuda()\n",
        "\n",
        "# For this homework, we're limiting you to 35 million trainable parameters, as\n",
        "# outputted by this. This is to help constrain your search space and maintain\n",
        "# reasonable training times & expectations\n",
        "num_trainable_parameters = 0\n",
        "for p in model.parameters():\n",
        "    num_trainable_parameters += p.numel()\n",
        "print(\"Number of Params: {}\".format(num_trainable_parameters))\n",
        "\n",
        "# TODO: What criterion do we use for this task?\n",
        "# criterion = \n",
        "center_loss = CenterLoss(7000,512)\n",
        "criterion = CrossEntropyLoss(label_smoothing=0.3)\n",
        "optimizer = optim.SGD(model.parameters(), lr=lr, momentum=0.9, weight_decay=1e-4)\n",
        "c_loss_optimi = optim.SGD(center_loss.parameters(), lr=0.05)\n",
        "c_loss_weight = 0.001\n",
        "# optimizer = optim.Adam(model.parameters(),lr=lr)\n",
        "scheduler = optim.lr_scheduler.CosineAnnealingLR(optimizer, T_max=(len(train_loader) * epochs))\n",
        "# T_max is \"how many times will i call scheduler.step() until it reaches 0 lr?\"\n",
        "\n",
        "# For this homework, we strongly strongly recommend using FP16 to speed up training.\n",
        "# It helps more for larger models.\n",
        "# Go to https://effectivemachinelearning.com/PyTorch/8._Faster_training_with_mixed_precision\n",
        "# and compare \"Single precision training\" section with \"Mixed precision training\" section\n",
        "\n",
        "\n",
        "scaler = torch.cuda.amp.GradScaler()"
      ]
    },
    {
      "cell_type": "markdown",
      "source": [
        "## Call wandb to watch the model."
      ],
      "metadata": {
        "id": "dkPHOh1lRfXb"
      }
    },
    {
      "cell_type": "code",
      "execution_count": null,
      "metadata": {
        "colab": {
          "base_uri": "https://localhost:8080/"
        },
        "id": "wI97pXFddmW9",
        "outputId": "3747baa6-fef1-4814-f355-2e8f5a75090e"
      },
      "outputs": [
        {
          "output_type": "execute_result",
          "data": {
            "text/plain": [
              "[]"
            ]
          },
          "metadata": {},
          "execution_count": 12
        }
      ],
      "source": [
        "wandb.watch(model, log_freq=100)\n"
      ]
    },
    {
      "cell_type": "markdown",
      "metadata": {
        "id": "dzM11HtcboYv"
      },
      "source": [
        "# Let's train!"
      ]
    },
    {
      "cell_type": "markdown",
      "source": [
        "## call verification metric for validation"
      ],
      "metadata": {
        "id": "kjsvzypwRidD"
      }
    },
    {
      "cell_type": "code",
      "source": [
        "from scipy.spatial.distance import cosine\n",
        "cos = nn.CosineSimilarity(dim=0, eps=1e-6)\n",
        "\n",
        "\n",
        "similarity_metric = cosine\n",
        "similarity_metric = cos\n",
        "\n",
        "\n",
        "val_veri_csv = osp.join(DATA_DIR, \"verification/verification/verification_dev.csv\")\n"
      ],
      "metadata": {
        "id": "DUKbqoHlOg8l"
      },
      "execution_count": null,
      "outputs": []
    },
    {
      "cell_type": "code",
      "execution_count": null,
      "metadata": {
        "id": "JrChwbscbYkj"
      },
      "outputs": [],
      "source": [
        "for epoch in range(epochs):\n",
        "    # Quality of life tip: leave=False and position=0 are needed to make tqdm usable in jupyter\n",
        "    batch_bar = tqdm(total=len(train_loader), dynamic_ncols=True, leave=False, position=0, desc='Train') \n",
        "\n",
        "    num_correct = 0\n",
        "    total_loss = 0\n",
        "    total_c_loss = 0\n",
        "    model.train()\n",
        "    for i, (x, y) in enumerate(train_loader):\n",
        "        \n",
        "        optimizer.zero_grad()\n",
        "        x = x.cuda()\n",
        "        y = y.cuda()\n",
        "\n",
        "        # Don't be surprised - we just wrap these two lines to make it work for FP16\n",
        "        # with torch.cuda.amp.autocast():     \n",
        "        feats, outputs = model(x)\n",
        "        c_loss = center_loss(feats, y )*c_loss_weight\n",
        "        loss = criterion(outputs, y) + c_loss\n",
        "\n",
        "        # Update # correct & loss as we go\n",
        "        num_correct += int((torch.argmax(outputs, axis=1) == y).sum())\n",
        "        total_loss += float(loss)\n",
        "        total_c_loss +=float(c_loss)\n",
        "        # tqdm lets you add some details so you can monitor training as you train.\n",
        "        batch_bar.set_postfix(\n",
        "            acc=\"{:.04f}%\".format(100 * num_correct / ((i + 1) * batch_size)),\n",
        "            loss=\"{:.04f}\".format(float(total_loss / (i + 1))),\n",
        "            c_loss=\"{:.04f}\".format(float(total_c_loss / (i + 1))),\n",
        "            num_correct=num_correct,\n",
        "            lr=\"{:.04f}\".format(float(optimizer.param_groups[0]['lr'])))\n",
        "        \n",
        "        # Another couple things you need for FP16. \n",
        "         # This is a replacement for loss.backward()\n",
        "         # This is a replacement for optimizer.step()\n",
        "        optimizer.zero_grad()\n",
        "        c_loss_optimi.zero_grad()\n",
        "\n",
        "        # scaler.scale(loss).backward()\n",
        "        loss.backward()\n",
        "        # c_loss.backward()\n",
        "        # optimizer.step()\n",
        "        c_loss_optimi.step()\n",
        "        optimizer.step()\n",
        "        # scaler.step(optimizer)\n",
        "        for param in center_loss.parameters():\n",
        "            param.grad.data *= (1. / c_loss_weight)\n",
        "        c_loss_optimi.step()\n",
        "        \n",
        "        # scaler.update() # This is something added just for FP16\n",
        "\n",
        "        scheduler.step() # We told scheduler T_max that we'd call step() (len(train_loader) * epochs) many times.\n",
        "\n",
        "        batch_bar.update() # Update tqdm bar\n",
        "    batch_bar.close() # You need this to close the tqdm bar\n",
        "    now = datetime.now()\n",
        "    # pth = \"/content/drive/MyDrive/11785/model/\"\n",
        "    name = now.strftime(\"%d_%m_%Y_%H_%M\")\n",
        "    torch.save(model.state_dict(), f\"/content/drive/MyDrive/hw2p2/model/{epoch}_{name}.pth\")\n",
        "    # You can add validation per-epoch here if you would like\n",
        " \n",
        "    model.eval()\n",
        "    batch_bar = tqdm(total=len(val_loader), dynamic_ncols=True, position=0, leave=False, desc='Val')\n",
        "    val_num_correct = 0\n",
        "    for i, (x, y) in enumerate(val_loader):\n",
        "\n",
        "        x = x.cuda()\n",
        "        y = y.cuda()\n",
        "\n",
        "        with torch.no_grad():\n",
        "            feats,outputs = model(x)\n",
        "\n",
        "        val_num_correct += int((torch.argmax(outputs, axis=1) == y).sum())\n",
        "        batch_bar.set_postfix(acc=\"{:.04f}%\".format(100 * val_num_correct / ((i + 1) * batch_size)))\n",
        "\n",
        "        batch_bar.update()\n",
        "    \n",
        "    batch_bar.close()\n",
        "    print(\"Validation: {:.04f}%\".format(100 * val_num_correct / len(val_dataset)))\n",
        "    val_acc = val_num_correct / len(val_dataset)\n",
        "    wandb.log({\"train loss\": float(total_loss / len(train_loader))})\n",
        "    wandb.log({\"val acc\": val_acc})\n",
        "    wandb.log({\"lr\": float(optimizer.param_groups[0]['lr'])})\n",
        "\n",
        "    feats_dict = dict()\n",
        "    for batch_idx, (imgs, path_names) in tqdm(enumerate(val_ver_loader), total=len(val_ver_loader), position=0, leave=False):\n",
        "        imgs = imgs.cuda()\n",
        "\n",
        "        with torch.no_grad():\n",
        "            # Note that we return the feats here, not the final outputs\n",
        "            # Feel free to try to final outputs too!\n",
        "            feats,_ = model(imgs) \n",
        "            # feats = model(imgs, return_feats=True) \n",
        "            for i,j in zip(feats,path_names):\n",
        "                feats_dict.update({j: i})\n",
        "    pred_similarities = []\n",
        "    gt_similarities = []\n",
        "    for line in tqdm(open(val_veri_csv).read().splitlines()[1:], position=0, leave=False): # skip header\n",
        "        img_path1, img_path2, gt = line.split(\",\")\n",
        "\n",
        "\n",
        "        feats1 = feats_dict[img_path1[4:]]\n",
        "        feats2 = feats_dict[img_path2[4:]]\n",
        "\n",
        "        pred = float(similarity_metric(feats1,feats2))\n",
        "\n",
        "\n",
        "        gt_similarities.append(int(gt))\n",
        "        pred_similarities.append(pred)\n",
        "\n",
        "    pred_similarities = np.array(pred_similarities)\n",
        "    gt_similarities = np.array(gt_similarities)\n",
        "\n",
        "    print(\"AUC:\", roc_auc_score(gt_similarities, pred_similarities))\n",
        "    \n",
        "    print(\"Epoch {}/{}: Train Acc {:.04f}%, Train Loss {:.04f}, Learning Rate {:.04f}\".format(\n",
        "        epoch + 1,\n",
        "        epochs,\n",
        "        100 * num_correct / (len(train_loader) * batch_size),\n",
        "        \n",
        "        float(total_loss / len(train_loader)),\n",
        "        float(optimizer.param_groups[0]['lr'])))"
      ]
    },
    {
      "cell_type": "markdown",
      "metadata": {
        "id": "AKb2iD_9gdpX"
      },
      "source": [
        "# Classification Task: Validation"
      ]
    },
    {
      "cell_type": "code",
      "execution_count": null,
      "metadata": {
        "colab": {
          "base_uri": "https://localhost:8080/"
        },
        "id": "le1o-OVjfeN9",
        "outputId": "5eb98894-df44-4780-f71f-c118ea5b7661"
      },
      "outputs": [
        {
          "output_type": "stream",
          "name": "stderr",
          "text": [
            "                                                                  "
          ]
        },
        {
          "output_type": "stream",
          "name": "stdout",
          "text": [
            "Validation: 84.2771%\n"
          ]
        },
        {
          "output_type": "stream",
          "name": "stderr",
          "text": [
            "\r"
          ]
        }
      ],
      "source": [
        "# model.load_state_dict(torch.load('/content/drive/MyDrive/hw2p2/model/34_01_03_2022_04_18.pth'))\n",
        "model.eval()\n",
        "batch_bar = tqdm(total=len(val_loader), dynamic_ncols=True, position=0, leave=False, desc='Val')\n",
        "num_correct = 0\n",
        "for i, (x, y) in enumerate(val_loader):\n",
        "\n",
        "    x = x.cuda()\n",
        "    y = y.cuda()\n",
        "\n",
        "    with torch.no_grad():\n",
        "        outputs = model(x)\n",
        "\n",
        "    num_correct += int((torch.argmax(outputs, axis=1) == y).sum())\n",
        "    batch_bar.set_postfix(acc=\"{:.04f}%\".format(100 * num_correct / ((i + 1) * batch_size)))\n",
        "\n",
        "    batch_bar.update()\n",
        "    \n",
        "batch_bar.close()\n",
        "print(\"Validation: {:.04f}%\".format(100 * num_correct / len(val_dataset)))"
      ]
    },
    {
      "cell_type": "markdown",
      "metadata": {
        "id": "UpgCHImRkYQW"
      },
      "source": [
        "# Classification Task: Submit to Kaggle"
      ]
    },
    {
      "cell_type": "code",
      "execution_count": null,
      "metadata": {
        "id": "08Zv2AWFrfVP"
      },
      "outputs": [],
      "source": [
        "class ClassificationTestSet(Dataset):\n",
        "    # It's possible to load test set data using ImageFolder without making a custom class.\n",
        "    # See if you can think it through!\n",
        "\n",
        "    def __init__(self, data_dir, transforms):\n",
        "        self.data_dir = data_dir\n",
        "        self.transforms = transforms\n",
        "\n",
        "        # This one-liner basically generates a sorted list of full paths to each image in data_dir\n",
        "        self.img_paths = list(map(lambda fname: osp.join(self.data_dir, fname), sorted(os.listdir(self.data_dir))))\n",
        "\n",
        "    def __len__(self):\n",
        "        return len(self.img_paths)\n",
        "    \n",
        "    \n",
        "    def __getitem__(self, idx):\n",
        "        return self.transforms(Image.open(self.img_paths[idx]))"
      ]
    },
    {
      "cell_type": "code",
      "execution_count": null,
      "metadata": {
        "id": "td_qvGwr16z0"
      },
      "outputs": [],
      "source": [
        "test_dataset = ClassificationTestSet(TEST_DIR, ttf.Compose(val_transforms))\n",
        "test_loader = DataLoader(test_dataset, batch_size=batch_size, shuffle=False,\n",
        "                         drop_last=False, num_workers=1)"
      ]
    },
    {
      "cell_type": "code",
      "execution_count": null,
      "metadata": {
        "colab": {
          "base_uri": "https://localhost:8080/"
        },
        "id": "U2WQEUjXkWvo",
        "outputId": "e88b6737-6848-469d-8a38-29903e916200"
      },
      "outputs": [
        {
          "output_type": "stream",
          "name": "stderr",
          "text": [
            ""
          ]
        }
      ],
      "source": [
        "model.eval()\n",
        "batch_bar = tqdm(total=len(test_loader), dynamic_ncols=True, position=0, leave=False, desc='Test')\n",
        "\n",
        "res = []\n",
        "for i, (x) in enumerate(test_loader):\n",
        "    x = x.cuda()\n",
        "    # TODO: Finish predicting on the test set.\n",
        "    with torch.no_grad():\n",
        "        outputs = model(x)\n",
        "    pred_y = torch.argmax(outputs, axis=1)\n",
        "    res.extend(pred_y.tolist())\n",
        "\n",
        "    batch_bar.update()\n",
        "    \n",
        "batch_bar.close()"
      ]
    },
    {
      "cell_type": "code",
      "execution_count": null,
      "metadata": {
        "id": "Vob9a2-HkW_V"
      },
      "outputs": [],
      "source": [
        "with open(\"classification_early_submission.csv\", \"w+\") as f:\n",
        "    f.write(\"id,label\\n\")\n",
        "    for i in range(len(test_dataset)):\n",
        "        f.write(\"{},{}\\n\".format(str(i).zfill(6) + \".jpg\", res[i]))"
      ]
    },
    {
      "cell_type": "code",
      "execution_count": null,
      "metadata": {
        "colab": {
          "base_uri": "https://localhost:8080/"
        },
        "id": "zpxatBfT4jSQ",
        "outputId": "82f0e8cc-2db2-4e14-fb30-76db05d57cde"
      },
      "outputs": [
        {
          "output_type": "stream",
          "name": "stdout",
          "text": [
            "Warning: Looks like you're using an outdated API Version, please consider updating (server 1.5.12 / client 1.5.8)\n",
            "100% 541k/541k [00:02<00:00, 275kB/s]\n",
            "Successfully submitted to Face Recognition"
          ]
        }
      ],
      "source": [
        "!kaggle competitions submit -c 11-785-s22-hw2p2-classification -f classification_early_submission.csv -m \"hello\""
      ]
    },
    {
      "cell_type": "markdown",
      "metadata": {
        "id": "PsJx1l1T4twC"
      },
      "source": [
        "# Verification Task: Validation"
      ]
    },
    {
      "cell_type": "markdown",
      "metadata": {
        "id": "FoBFFF8-Lpvj"
      },
      "source": [
        "There are 6K verification dev images, but 166K \"pairs\" for you to compare. So, it's much more efficient to compute the features for the 6K verification images, and just compare afterwards.\n",
        "\n",
        "This will be done by creating a dictionary mapping the image file names to the features. Then, you'll use this dictionary to compute the similarities for each pair."
      ]
    },
    {
      "cell_type": "code",
      "execution_count": null,
      "metadata": {
        "colab": {
          "base_uri": "https://localhost:8080/"
        },
        "id": "ZV-WsTi9LrVz",
        "outputId": "8c7ab875-35cb-4fc5-b7fa-1a30d00f1b75"
      },
      "outputs": [
        {
          "output_type": "stream",
          "name": "stdout",
          "text": [
            "6000\n",
            "166801\n"
          ]
        }
      ],
      "source": [
        "!ls verification/verification/dev | wc -l\n",
        "!cat verification/verification/verification_dev.csv | wc -l"
      ]
    },
    {
      "cell_type": "code",
      "execution_count": null,
      "metadata": {
        "id": "m1YtIwxuL7H0"
      },
      "outputs": [],
      "source": [
        "class VerificationDataset(Dataset):\n",
        "    def __init__(self, data_dir, transforms):\n",
        "        self.data_dir = data_dir\n",
        "        self.transforms = transforms\n",
        "\n",
        "        # This one-liner basically generates a sorted list of full paths to each image in data_dir\n",
        "        self.img_paths = list(map(lambda fname: osp.join(self.data_dir, fname), sorted(os.listdir(self.data_dir))))\n",
        "\n",
        "    def __len__(self):\n",
        "        return len(self.img_paths)\n",
        "    \n",
        "    def __getitem__(self, idx):\n",
        "        # We return the image, as well as the path to that image (relative path)\n",
        "        return self.transforms(Image.open(self.img_paths[idx])), osp.relpath(self.img_paths[idx], self.data_dir)"
      ]
    },
    {
      "cell_type": "code",
      "execution_count": null,
      "metadata": {
        "id": "98lmjm0S4tHR"
      },
      "outputs": [],
      "source": [
        "val_veri_dataset = VerificationDataset(osp.join(DATA_DIR, \"verification/verification/dev\"),\n",
        "                                       ttf.Compose(val_transforms))\n",
        "val_ver_loader = torch.utils.data.DataLoader(val_veri_dataset, batch_size=batch_size, \n",
        "                                             shuffle=False, num_workers=1)"
      ]
    },
    {
      "cell_type": "code",
      "execution_count": null,
      "metadata": {
        "colab": {
          "base_uri": "https://localhost:8080/"
        },
        "id": "-Qw45H-eMyyn",
        "outputId": "2a95ece7-a79c-462a-8f61-61102e9875fc"
      },
      "outputs": [
        {
          "name": "stderr",
          "output_type": "stream",
          "text": [
            ""
          ]
        }
      ],
      "source": [
        "model.eval()\n",
        "\n",
        "feats_dict = dict()\n",
        "for batch_idx, (imgs, path_names) in tqdm(enumerate(val_ver_loader), total=len(val_ver_loader), position=0, leave=False):\n",
        "    imgs = imgs.cuda()\n",
        "\n",
        "    with torch.no_grad():\n",
        "        # Note that we return the feats here, not the final outputs\n",
        "        # Feel free to try the final outputs too!\n",
        "        feats = model(imgs, return_feats=True) \n",
        "        for i,j in zip(feats,path_names):\n",
        "            feats_dict.update({j: i})\n",
        "    # TODO: Now we have features and the image path names. What to do with them?\n",
        "    # Hint: use the feats_dict somehow."
      ]
    },
    {
      "cell_type": "code",
      "execution_count": null,
      "metadata": {
        "colab": {
          "base_uri": "https://localhost:8080/"
        },
        "id": "k6TG6RD6NTtX",
        "outputId": "0fa2c56d-3ec2-423f-b24d-16ce51f02c7c"
      },
      "outputs": [
        {
          "name": "stdout",
          "output_type": "stream",
          "text": [
            "('000b28b024.jpg', tensor([-32.1187, -31.4586, -26.6701,  ..., -31.4190, -16.7718, -21.3447],\n",
            "       device='cuda:0'))\n"
          ]
        }
      ],
      "source": [
        "# What does this dict look like?\n",
        "print(list(feats_dict.items())[0])"
      ]
    },
    {
      "cell_type": "code",
      "execution_count": null,
      "metadata": {
        "colab": {
          "base_uri": "https://localhost:8080/"
        },
        "id": "_zuqds2qNO6N",
        "outputId": "53b1a3d9-24cf-470d-a728-825c6ee77e8b"
      },
      "outputs": [
        {
          "name": "stderr",
          "output_type": "stream",
          "text": [
            ""
          ]
        },
        {
          "name": "stdout",
          "output_type": "stream",
          "text": [
            "AUC: 0.9535921937670002\n"
          ]
        }
      ],
      "source": [
        "# We use cosine similarity between feature embeddings.\n",
        "# TODO: Find the relevant function in pytorch and read its documentation.\n",
        "# similarity_metric = \n",
        "from scipy.spatial.distance import cosine\n",
        "cos = nn.CosineSimilarity(dim=0, eps=1e-6)\n",
        "\n",
        "\n",
        "similarity_metric = cosine\n",
        "similarity_metric = cos\n",
        "\n",
        "\n",
        "val_veri_csv = osp.join(DATA_DIR, \"verification/verification/verification_dev.csv\")\n",
        "\n",
        "\n",
        "# Now, loop through the csv and compare each pair, getting the similarity between them\n",
        "pred_similarities = []\n",
        "gt_similarities = []\n",
        "for line in tqdm(open(val_veri_csv).read().splitlines()[1:], position=0, leave=False): # skip header\n",
        "    img_path1, img_path2, gt = line.split(\",\")\n",
        "\n",
        "\n",
        "    feats1 = feats_dict[img_path1[4:]]\n",
        "    feats2 = feats_dict[img_path2[4:]]\n",
        "\n",
        "    pred = float(similarity_metric(feats1,feats2))\n",
        "\n",
        "\n",
        "    gt_similarities.append(int(gt))\n",
        "    pred_similarities.append(pred)\n",
        "\n",
        "pred_similarities = np.array(pred_similarities)\n",
        "gt_similarities = np.array(gt_similarities)\n",
        "\n",
        "print(\"AUC:\", roc_auc_score(gt_similarities, pred_similarities))"
      ]
    },
    {
      "cell_type": "code",
      "execution_count": null,
      "metadata": {
        "colab": {
          "base_uri": "https://localhost:8080/"
        },
        "id": "IB_VOsrfDnmt",
        "outputId": "0d8f388a-df18-459f-e017-32e757244ab2"
      },
      "outputs": [
        {
          "name": "stdout",
          "output_type": "stream",
          "text": [
            "tensor(1.)\n"
          ]
        }
      ],
      "source": [
        "input1 = torch.ones(100)\n",
        "input2 = torch.ones(100)\n",
        "cos = nn.CosineSimilarity(dim=0, eps=1e-6)\n",
        "output = cos(input1, input2)\n",
        "print(output)"
      ]
    },
    {
      "cell_type": "markdown",
      "metadata": {
        "id": "sakRa8oZOlKr"
      },
      "source": [
        "# Verification Task: Submit to Kaggle"
      ]
    },
    {
      "cell_type": "code",
      "execution_count": null,
      "metadata": {
        "id": "oDK3knDcOrOE"
      },
      "outputs": [],
      "source": [
        "test_veri_dataset = VerificationDataset(osp.join(DATA_DIR, \"verification/verification/test\"),\n",
        "                                        ttf.Compose(val_transforms))\n",
        "test_ver_loader = torch.utils.data.DataLoader(test_veri_dataset, batch_size=batch_size, \n",
        "                                              shuffle=False, num_workers=1)"
      ]
    },
    {
      "cell_type": "code",
      "execution_count": null,
      "metadata": {
        "colab": {
          "base_uri": "https://localhost:8080/"
        },
        "id": "igeRT3WxOrB_",
        "outputId": "d057fd0a-b6c3-41d6-ea02-34c8949d98f3"
      },
      "outputs": [
        {
          "output_type": "stream",
          "name": "stderr",
          "text": [
            ""
          ]
        }
      ],
      "source": [
        "model.eval()\n",
        "\n",
        "feats_dict = dict()\n",
        "for batch_idx, (imgs, path_names) in tqdm(enumerate(test_ver_loader), total=len(test_ver_loader), position=0, leave=False):\n",
        "    imgs = imgs.cuda()\n",
        "\n",
        "    with torch.no_grad():\n",
        "        # Note that we return the feats here, not the final outputs\n",
        "        # Feel free to try to final outputs too!\n",
        "        feats = model(imgs, return_feats=True) \n",
        "        # feats = model(imgs, return_feats=True) \n",
        "        for i,j in zip(feats,path_names):\n",
        "            feats_dict.update({j: i})\n",
        "    # TODO: Now we have features and the image path names. What to do with them?\n",
        "    # Hint: use the feats_dict somehow."
      ]
    },
    {
      "cell_type": "code",
      "execution_count": null,
      "metadata": {
        "colab": {
          "base_uri": "https://localhost:8080/"
        },
        "id": "X4OZL_FNOq1r",
        "outputId": "cc88984a-4a8b-46c4-f305-1d9f9bb659c8"
      },
      "outputs": [
        {
          "output_type": "stream",
          "name": "stderr",
          "text": [
            ""
          ]
        }
      ],
      "source": [
        "# We use cosine similarity between feature embeddings.\n",
        "# TODO: Find the relevant function in pytorch and read its documentation.\n",
        "# similarity_metric = \n",
        "from scipy.spatial.distance import cosine\n",
        "cos = nn.CosineSimilarity(dim=0, eps=1e-6)\n",
        "\n",
        "\n",
        "similarity_metric = cosine\n",
        "similarity_metric = cos\n",
        "val_veri_csv = osp.join(DATA_DIR, \"verification/verification/verification_test.csv\")\n",
        "\n",
        "\n",
        "# Now, loop through the csv and compare each pair, getting the similarity between them\n",
        "pred_similarities = []\n",
        "for line in tqdm(open(val_veri_csv).read().splitlines()[1:], position=0, leave=False): # skip header\n",
        "    img_path1, img_path2 = line.split(\",\")\n",
        "    feats1 = feats_dict[img_path1[5:]]\n",
        "    feats2 = feats_dict[img_path2[5:]]\n",
        "\n",
        "    pred = float(similarity_metric(feats1,feats2))\n",
        "    pred_similarities.append(pred)\n",
        "    # TODO: Finish up verification testing.\n",
        "    # How to use these img_paths? What to do with the features?\n",
        "pred_similarities = np.array(pred_similarities)\n"
      ]
    },
    {
      "cell_type": "code",
      "execution_count": null,
      "metadata": {
        "id": "fYXiglWkPBDv"
      },
      "outputs": [],
      "source": [
        "with open(\"verification_early_submission.csv\", \"w+\") as f:\n",
        "    f.write(\"id,match\\n\")\n",
        "    for i in range(len(pred_similarities)):\n",
        "        f.write(\"{},{}\\n\".format(i, pred_similarities[i]))"
      ]
    },
    {
      "cell_type": "code",
      "execution_count": null,
      "metadata": {
        "colab": {
          "base_uri": "https://localhost:8080/"
        },
        "id": "P5zB7P8O687N",
        "outputId": "8616c863-3b7e-40ad-d232-50f0f52c4636"
      },
      "outputs": [
        {
          "output_type": "stream",
          "name": "stdout",
          "text": [
            "Warning: Looks like you're using an outdated API Version, please consider updating (server 1.5.12 / client 1.5.8)\n",
            "100% 16.9M/16.9M [00:03<00:00, 4.62MB/s]\n",
            "Successfully submitted to Face Verification"
          ]
        }
      ],
      "source": [
        "!kaggle competitions submit -c 11-785-s22-hw2p2-verification -f verification_early_submission.csv -m \"test\""
      ]
    },
    {
      "cell_type": "markdown",
      "metadata": {
        "id": "ALiq9PTl7KwY"
      },
      "source": [
        "# Extras"
      ]
    },
    {
      "cell_type": "code",
      "execution_count": null,
      "metadata": {
        "colab": {
          "base_uri": "https://localhost:8080/"
        },
        "id": "OuAsK_tKhzH9",
        "outputId": "e4d0c479-5dec-4a76-9850-4a31c836ac83"
      },
      "outputs": [
        {
          "output_type": "stream",
          "name": "stdout",
          "text": [
            "Mon Mar 21 20:35:56 2022       \n",
            "+-----------------------------------------------------------------------------+\n",
            "| NVIDIA-SMI 460.32.03    Driver Version: 460.32.03    CUDA Version: 11.2     |\n",
            "|-------------------------------+----------------------+----------------------+\n",
            "| GPU  Name        Persistence-M| Bus-Id        Disp.A | Volatile Uncorr. ECC |\n",
            "| Fan  Temp  Perf  Pwr:Usage/Cap|         Memory-Usage | GPU-Util  Compute M. |\n",
            "|                               |                      |               MIG M. |\n",
            "|===============================+======================+======================|\n",
            "|   0  Tesla P100-PCIE...  Off  | 00000000:00:04.0 Off |                    0 |\n",
            "| N/A   38C    P0    28W / 250W |      0MiB / 16280MiB |      0%      Default |\n",
            "|                               |                      |                  N/A |\n",
            "+-------------------------------+----------------------+----------------------+\n",
            "                                                                               \n",
            "+-----------------------------------------------------------------------------+\n",
            "| Processes:                                                                  |\n",
            "|  GPU   GI   CI        PID   Type   Process name                  GPU Memory |\n",
            "|        ID   ID                                                   Usage      |\n",
            "|=============================================================================|\n",
            "|  No running processes found                                                 |\n",
            "+-----------------------------------------------------------------------------+\n"
          ]
        }
      ],
      "source": [
        "# If you keep re-initializing your model in Colab, can run out of GPU memory, need to restart.\n",
        "# These three lines can help that - run this before you re-initialize your model\n",
        "\n",
        "\n",
        "# del model\n",
        "torch.cuda.empty_cache()\n",
        "!nvidia-smi"
      ]
    }
  ],
  "metadata": {
    "accelerator": "GPU",
    "colab": {
      "collapsed_sections": [],
      "machine_shape": "hm",
      "name": "HW2P2_Starter (1).ipynb",
      "provenance": [],
      "include_colab_link": true
    },
    "kernelspec": {
      "display_name": "Python 3",
      "name": "python3"
    },
    "language_info": {
      "name": "python"
    }
  },
  "nbformat": 4,
  "nbformat_minor": 0
}